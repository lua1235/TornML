{
  "nbformat": 4,
  "nbformat_minor": 0,
  "metadata": {
    "colab": {
      "provenance": [],
      "authorship_tag": "ABX9TyP3dXB97zck/59KlF4j+LPb",
      "include_colab_link": true
    },
    "kernelspec": {
      "name": "python3",
      "display_name": "Python 3"
    },
    "language_info": {
      "name": "python"
    }
  },
  "cells": [
    {
      "cell_type": "markdown",
      "metadata": {
        "id": "view-in-github",
        "colab_type": "text"
      },
      "source": [
        "<a href=\"https://colab.research.google.com/github/lua1235/TornML/blob/main/Testbed.ipynb\" target=\"_parent\"><img src=\"https://colab.research.google.com/assets/colab-badge.svg\" alt=\"Open In Colab\"/></a>"
      ]
    },
    {
      "cell_type": "code",
      "source": [
        "import numpy as np\n",
        "import pandas as pd\n",
        "import matplotlib.pyplot as plt"
      ],
      "metadata": {
        "id": "l8nCsfrrFR6B"
      },
      "execution_count": 2,
      "outputs": []
    },
    {
      "cell_type": "markdown",
      "source": [
        "#GET DATASET FROM GOOGLE SHEETS\n"
      ],
      "metadata": {
        "id": "UpMvsvIOC8EM"
      }
    },
    {
      "cell_type": "code",
      "execution_count": 6,
      "metadata": {
        "id": "vP63liG4AxQO",
        "outputId": "0c289c7e-943a-44b4-b071-7c41fd77bda1",
        "colab": {
          "base_uri": "https://localhost:8080/"
        }
      },
      "outputs": [
        {
          "output_type": "stream",
          "name": "stdout",
          "text": [
            "(178, 93)\n",
            "(178,)\n",
            "(178, 92)\n"
          ]
        }
      ],
      "source": [
        "from google.colab import auth\n",
        "auth.authenticate_user()\n",
        "\n",
        "import gspread\n",
        "from google.auth import default\n",
        "creds, _ = default()\n",
        "\n",
        "gc = gspread.authorize(creds)\n",
        "\n",
        "worksheet = gc.open('Torn ML DataSet').sheet1\n",
        "\n",
        "# get_all_values gives a list of rows.\n",
        "rows = worksheet.get('J2:CX')\n",
        "rows[1:] = [[np.float64(i) for i in r] for r in rows[1:]]\n",
        "\n",
        "view = pd.DataFrame(rows[1:], columns=rows[0])\n",
        "\n",
        "# normalize\n",
        "lMean = view['Stat Totals'].mean()\n",
        "lStd = view['Stat Totals'].std()\n",
        "\n",
        "view = (view - view.mean())/view.std()\n",
        "labels = view['Stat Totals'].to_numpy()\n",
        "features = view[view.columns[1:]].to_numpy()\n",
        "print(view.shape)\n",
        "print(labels.shape)\n",
        "print(features.shape)\n",
        "\n",
        "features = np.append(np.ones((len(features), 1)), features, 1) # append a column of 1s for bias term\n",
        "\n"
      ]
    },
    {
      "cell_type": "markdown",
      "source": [
        "#CORRELATION VISUALIZATION"
      ],
      "metadata": {
        "id": "sOyPR5R9Kr0h"
      }
    },
    {
      "cell_type": "code",
      "source": [
        "view.plot(x=\"refills\", y=\"Stat Totals\",kind=\"scatter\")"
      ],
      "metadata": {
        "id": "3J_gYDgJKzvQ",
        "outputId": "2cbfbafd-fd2c-44dd-d8da-2cb3542de369",
        "colab": {
          "base_uri": "https://localhost:8080/",
          "height": 468
        }
      },
      "execution_count": 6,
      "outputs": [
        {
          "output_type": "execute_result",
          "data": {
            "text/plain": [
              "<Axes: xlabel='refills', ylabel='Stat Totals'>"
            ]
          },
          "metadata": {},
          "execution_count": 6
        },
        {
          "output_type": "display_data",
          "data": {
            "text/plain": [
              "<Figure size 640x480 with 1 Axes>"
            ],
            "image/png": "[encoded data removed]"
          },
          "metadata": {}
        }
      ]
    },
    {
      "cell_type": "markdown",
      "source": [
        "# Batch GD Regression Learner\n",
        "Using squared loss"
      ],
      "metadata": {
        "id": "_d7Q-7AsUTSM"
      }
    },
    {
      "cell_type": "code",
      "source": [
        "# X - (n, d+1) matrix of features\n",
        "# Y - (n, 1) vector of labels\n",
        "\n",
        "def learner(X, y, step_function, random_seed = 1, epochs = 10) :\n",
        "  n, d = X.shape()\n",
        "  w = np.random.default_rng(random_seed).random((d, 1)) # random weight initialization\n",
        "\n",
        "  for i in range(epochs) :\n",
        "    gradient = (2/n) * (X.T @ (X @ w - y))\n",
        "    w = w - gradient\n",
        "\n",
        "  # x - (d, 1) vector of features\n",
        "  def predictor(x) :\n",
        "    return x @ w\n",
        "\n",
        "  return predictor, w"
      ],
      "metadata": {
        "id": "ic9b1qt2URFq"
      },
      "execution_count": 7,
      "outputs": []
    },
    {
      "cell_type": "markdown",
      "source": [
        "#Training and Testing"
      ],
      "metadata": {
        "id": "VqqgAfQjyt0O"
      }
    },
    {
      "cell_type": "code",
      "source": [
        "# split the\n",
        "n = len(features)\n",
        "test_features = features[:(n + 1) // 2]\n",
        "test_labels = labels[:(n + 1) // 2]\n",
        "\n",
        "train_features = features[(n + 1) // 2:]\n",
        "train_labels = features[(n + 1) // 2:]"
      ],
      "metadata": {
        "id": "qs-mc_PMyyiJ"
      },
      "execution_count": null,
      "outputs": []
    }
  ]
}