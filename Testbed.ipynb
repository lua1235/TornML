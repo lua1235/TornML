{
  "nbformat": 4,
  "nbformat_minor": 0,
  "metadata": {
    "colab": {
      "provenance": [],
      "toc_visible": true,
      "authorship_tag": "ABX9TyOWGr5tvk1XHQU8FKSTO2PI",
      "include_colab_link": true
    },
    "kernelspec": {
      "name": "python3",
      "display_name": "Python 3"
    },
    "language_info": {
      "name": "python"
    }
  },
  "cells": [
    {
      "cell_type": "markdown",
      "metadata": {
        "id": "view-in-github",
        "colab_type": "text"
      },
      "source": [
        "<a href=\"https://colab.research.google.com/github/lua1235/TornML/blob/main/Testbed.ipynb\" target=\"_parent\"><img src=\"https://colab.research.google.com/assets/colab-badge.svg\" alt=\"Open In Colab\"/></a>"
      ]
    },
    {
      "cell_type": "code",
      "source": [
        "import numpy as np\n",
        "import pandas as pd\n",
        "import matplotlib.pyplot as plt"
      ],
      "metadata": {
        "id": "l8nCsfrrFR6B"
      },
      "execution_count": 2,
      "outputs": []
    },
    {
      "cell_type": "markdown",
      "source": [
        "#Get Dataset From Google Sheets\n"
      ],
      "metadata": {
        "id": "UpMvsvIOC8EM"
      }
    },
    {
      "cell_type": "code",
      "execution_count": 6,
      "metadata": {
        "id": "vP63liG4AxQO",
        "outputId": "0c289c7e-943a-44b4-b071-7c41fd77bda1",
        "colab": {
          "base_uri": "https://localhost:8080/"
        }
      },
      "outputs": [
        {
          "output_type": "stream",
          "name": "stdout",
          "text": [
            "(178, 93)\n",
            "(178,)\n",
            "(178, 92)\n"
          ]
        }
      ],
      "source": [
        "from google.colab import auth\n",
        "auth.authenticate_user()\n",
        "\n",
        "import gspread\n",
        "from google.auth import default\n",
        "creds, _ = default()\n",
        "\n",
        "gc = gspread.authorize(creds)\n",
        "\n",
        "worksheet = gc.open('Torn ML DataSet').sheet1\n",
        "\n",
        "# get_all_values gives a list of rows.\n",
        "rows = worksheet.get('J2:CX')\n",
        "rows[1:] = [[np.float64(i) for i in r] for r in rows[1:]]\n",
        "\n",
        "view = pd.DataFrame(rows[1:], columns=rows[0])\n",
        "\n",
        "# normalize\n",
        "lMean = view['Stat Totals'].mean()\n",
        "lStd = view['Stat Totals'].std()\n",
        "\n",
        "fMean = view[view.columns[1:]].mean()\n",
        "fMean = view[view.columns[1:]].std()\n",
        "\n",
        "view = (view - view.mean())/view.std()\n",
        "labels = view['Stat Totals'].to_numpy()\n",
        "features = view[view.columns[1:]].to_numpy()\n",
        "print(view.shape)\n",
        "print(labels.shape)\n",
        "print(features.shape)\n",
        "\n",
        "features = np.append(np.ones((len(features), 1)), features, 1) # append a column of 1s for bias term\n",
        "\n"
      ]
    },
    {
      "cell_type": "markdown",
      "source": [
        "# Batch GD Regression Learner\n",
        "Using squared loss"
      ],
      "metadata": {
        "id": "_d7Q-7AsUTSM"
      }
    },
    {
      "cell_type": "code",
      "source": [
        "# X - (n, d+1) matrix of features\n",
        "# Y - (n, 1) vector of labels\n",
        "\n",
        "def batch_erm_learner(X, y, step_function, random_seed = 1, epochs = 10) :\n",
        "  n, d = np.shape(X)\n",
        "  w = np.random.default_rng(random_seed).random(d) # random weight initialization\n",
        "\n",
        "  for i in range(epochs) :\n",
        "    gradient = (2/n) * (X.T @ (X @ w - y))\n",
        "    w = w - step_function(i) * gradient\n",
        "\n",
        "  # x - (d, 1) vector of features\n",
        "  def predictor(x) :\n",
        "    return x @ w\n",
        "\n",
        "  return predictor, w"
      ],
      "metadata": {
        "id": "ic9b1qt2URFq"
      },
      "execution_count": 43,
      "outputs": []
    },
    {
      "cell_type": "markdown",
      "source": [
        "#Training and Testing"
      ],
      "metadata": {
        "id": "VqqgAfQjyt0O"
      }
    },
    {
      "cell_type": "code",
      "source": [
        "# split the dataset into training and testing set\n",
        "n = len(features)\n",
        "train_features = features[:(n + 1) // 2]\n",
        "train_labels = labels[:(n + 1) // 2]\n",
        "train_n = len(train_features)\n",
        "\n",
        "test_features = features[(n + 1) // 2:]\n",
        "test_labels = labels[(n + 1) // 2:]\n",
        "test_n = len(train_features)\n",
        "\n",
        "errors = {'epochs' : [], 'training error' : [], 'testing error' : []}\n",
        "\n",
        "def loss(a) :\n",
        "    return 0.01\n",
        "\n",
        "for i in range(100) :\n",
        "  batch_erm_f, batch_erm_w = batch_erm_learner(train_features, train_labels, loss, epochs = i)\n",
        "  #print(batch_erm_w)\n",
        "  #print(batch_erm_f(train_features[0]))\n",
        "  train_error = (1/train_n) * sum([(batch_erm_f(x) - y) ** 2 for x, y in zip(train_features, train_labels)])\n",
        "  test_error = (1/test_n) * sum([(batch_erm_f(x) - y) ** 2 for x, y in zip(test_features, test_labels)])\n",
        "  errors['epochs'].append(i)\n",
        "  errors['training error'].append(train_error)\n",
        "  errors['testing error'].append(test_error)\n",
        "\n",
        "errors = pd.DataFrame(errors)\n",
        "print(errors)\n",
        "errors.plot(figsize=(10, 8), x='epochs', y=['training error', 'testing error'])\n",
        "\n",
        "\n"
      ],
      "metadata": {
        "colab": {
          "base_uri": "https://localhost:8080/",
          "height": 983
        },
        "id": "qs-mc_PMyyiJ",
        "outputId": "59703241-b657-4206-c365-328703257937"
      },
      "execution_count": 64,
      "outputs": [
        {
          "output_type": "stream",
          "name": "stdout",
          "text": [
            "    epochs  training error  testing error\n",
            "0        0      469.927980    1046.517225\n",
            "1        1      146.208390     381.995144\n",
            "2        2       49.224918     158.958477\n",
            "3        3       19.784302      78.778273\n",
            "4        4       10.515536      47.272440\n",
            "..     ...             ...            ...\n",
            "95      95        0.387629       6.968261\n",
            "96      96        0.382891       6.927033\n",
            "97      97        0.378256       6.886402\n",
            "98      98        0.373721       6.846355\n",
            "99      99        0.369284       6.806878\n",
            "\n",
            "[100 rows x 3 columns]\n"
          ]
        },
        {
          "output_type": "execute_result",
          "data": {
            "text/plain": [
              "<Axes: xlabel='epochs'>"
            ]
          },
          "metadata": {},
          "execution_count": 64
        },
        {
          "output_type": "display_data",
          "data": {
            "text/plain": [
              "<Figure size 1000x800 with 1 Axes>"
            ],
            "image/png": "[encoded data removed]"
          },
          "metadata": {}
        }
      ]
    },
    {
      "cell_type": "code",
      "source": [
        "batch_erm_f, batch_erm_w = batch_erm_learner(train_features, train_labels, loss, epochs = 10000)\n",
        "\n",
        "\n"
      ],
      "metadata": {
        "id": "rwIhkwAcGVH7"
      },
      "execution_count": null,
      "outputs": []
    }
  ]
}